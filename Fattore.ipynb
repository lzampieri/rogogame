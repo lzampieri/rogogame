{
 "cells": [
  {
   "cell_type": "code",
   "execution_count": 38,
   "metadata": {},
   "outputs": [],
   "source": [
    "import numpy as np\n",
    "import matplotlib.pyplot as plt\n",
    "import itertools\n",
    "from tqdm import tqdm"
   ]
  },
  {
   "cell_type": "code",
   "execution_count": 25,
   "metadata": {},
   "outputs": [],
   "source": [
    "N = 8"
   ]
  },
  {
   "cell_type": "code",
   "execution_count": 26,
   "metadata": {},
   "outputs": [],
   "source": [
    "possible_matches = [\n",
    "    # {\n",
    "        # double_arches_up: 0,\n",
    "        # double_arches_down: 0,\n",
    "        # double_spaces_a: 0,\n",
    "        # double_spaces_b: 0\n",
    "    # }\n",
    "]"
   ]
  },
  {
   "cell_type": "code",
   "execution_count": 70,
   "metadata": {},
   "outputs": [],
   "source": [
    "# Generate all possible matches:\n",
    "from numpy import dtype\n",
    "\n",
    "\n",
    "sequences = list( itertools.permutations( np.arange( N - 1 ) ) )\n",
    "archeses = []\n",
    "for sequence in sequences:\n",
    "    arches = np.zeros( N, dtype=int )\n",
    "    arches[ N - 1 ] = sequence[ 0 ]\n",
    "    for i in range( N - 2 ):\n",
    "        arches[ sequence[ i ] ] = sequence[ ( i + 1 ) % N ]\n",
    "    arches[ sequence [ N - 2 ] ] = N - 1\n",
    "    archeses.append( arches )\n",
    "\n",
    "owners = set( itertools.permutations( np.hstack( [ np.zeros( int( N / 2 ), dtype=int ), np.ones( int( N / 2 ), dtype=int ) ] ) ) )"
   ]
  },
  {
   "cell_type": "code",
   "execution_count": 71,
   "metadata": {},
   "outputs": [
    {
     "name": "stdout",
     "output_type": "stream",
     "text": [
      "5040 arches with 70 owners, i.e. 352800 matches\n"
     ]
    }
   ],
   "source": [
    "print( f\"{len(archeses)} arches with {len(owners)} owners, i.e. {len(archeses)*len(owners)} matches\" )"
   ]
  },
  {
   "cell_type": "code",
   "execution_count": 76,
   "metadata": {},
   "outputs": [],
   "source": [
    "def compute_points( arches, owner ):\n",
    "    points = {\n",
    "        'double_arches_up': 0,\n",
    "        'double_arches_down': 0,\n",
    "        'double_spaces_a': 0,\n",
    "        'double_spaces_b': 0\n",
    "    }\n",
    "\n",
    "    # Double arches\n",
    "    for i in range( N ):\n",
    "        if( arches[ i ] > i ):\n",
    "            if( arches[ arches[ i ] ] > arches[ i ] ):\n",
    "                points[ 'double_arches_up' ] = points[ 'double_arches_up' ] + 1\n",
    "        if( arches[ i ] < i ):\n",
    "            if( arches[ arches[ i ] ] < arches[ i ] ):\n",
    "                points[ 'double_arches_down' ] = points[ 'double_arches_down' ] + 1\n",
    "    \n",
    "    # Double spaces\n",
    "    occupied = {\n",
    "        'a' : {\n",
    "            'up': np.zeros( N - 1 ),\n",
    "            'down': np.zeros( N - 1 ),\n",
    "        },\n",
    "        'b' : {\n",
    "            'up': np.zeros( N - 1 ),\n",
    "            'down': np.zeros( N - 1 ),\n",
    "        }\n",
    "    }\n",
    "    for i in range( N ):\n",
    "        for j in range( np.min( [ i, arches[i] ] ), np.max( [ i, arches[i] ] ) ):\n",
    "            occupied[ 'a' if owner[i] else 'b' ][ 'up' if i > arches[i] else 'down' ][ j ] = occupied[ 'a' if owner[i] else 'b' ][ 'up' if i > arches[i] else 'down' ][ j ] + 1\n",
    "    points[ 'double_spaces_a' ] = np.sum( np.min( [ occupied['a']['up'], occupied['a']['down'] ], axis = 0 ) )\n",
    "    points[ 'double_spaces_b' ] = np.sum( np.min( [ occupied['b']['up'], occupied['b']['down'] ], axis = 0 ) )\n",
    "\n",
    "    return points"
   ]
  },
  {
   "cell_type": "code",
   "execution_count": 77,
   "metadata": {},
   "outputs": [
    {
     "name": "stderr",
     "output_type": "stream",
     "text": [
      "100%|██████████| 5040/5040 [03:57<00:00, 21.20it/s]  \n"
     ]
    }
   ],
   "source": [
    "possible_matches = []\n",
    "\n",
    "for arches in tqdm( archeses ):\n",
    "    for owner in owners:\n",
    "        possible_matches.append( compute_points( arches, owner ) )"
   ]
  },
  {
   "cell_type": "code",
   "execution_count": 78,
   "metadata": {},
   "outputs": [
    {
     "data": {
      "text/plain": [
       "352800"
      ]
     },
     "execution_count": 78,
     "metadata": {},
     "output_type": "execute_result"
    }
   ],
   "source": [
    "len( possible_matches )"
   ]
  },
  {
   "cell_type": "code",
   "execution_count": 83,
   "metadata": {},
   "outputs": [],
   "source": [
    "factors = [ -1, -0.5, 0, 0.5, 1 ]\n",
    "win_a = np.zeros( len( factors ) )\n",
    "win_b = np.zeros( len( factors ) )\n",
    "pari = np.zeros( len( factors ) )\n",
    "\n",
    "for i, f in enumerate( factors ):\n",
    "    for p in possible_matches:\n",
    "        pt_a = p[ 'double_arches_up' ] + f * p[ 'double_spaces_a' ] \n",
    "        pt_b = p[ 'double_arches_down' ] + f * p[ 'double_spaces_b' ]\n",
    "        if( pt_a > pt_b ):\n",
    "            win_a[ i ] = win_a[ i ] + 1\n",
    "        if( pt_a < pt_b ):\n",
    "            win_b[ i ] = win_b[ i ] + 1\n",
    "        if( pt_a == pt_b ):\n",
    "            pari[ i ] = pari[ i ] + 1"
   ]
  },
  {
   "cell_type": "code",
   "execution_count": 85,
   "metadata": {},
   "outputs": [
    {
     "data": {
      "text/plain": [
       "[<matplotlib.lines.Line2D at 0x2179999d9c8>]"
      ]
     },
     "execution_count": 85,
     "metadata": {},
     "output_type": "execute_result"
    },
    {
     "data": {
      "image/png": "[encoded data removed]",
      "text/plain": [
       "<Figure size 432x288 with 1 Axes>"
      ]
     },
     "metadata": {
      "needs_background": "light"
     },
     "output_type": "display_data"
    }
   ],
   "source": [
    "plt.plot( factors, win_a / len( possible_matches ) )\n",
    "plt.plot( factors, win_b / len( possible_matches ), '--' )\n",
    "plt.plot( factors, pari / len( possible_matches ) )"
   ]
  },
  {
   "cell_type": "code",
   "execution_count": 86,
   "metadata": {},
   "outputs": [
    {
     "data": {
      "text/plain": [
       "array([0.14360544, 0.10595238, 0.47936508, 0.10595238, 0.14360544])"
      ]
     },
     "execution_count": 86,
     "metadata": {},
     "output_type": "execute_result"
    }
   ],
   "source": [
    "pari / len( possible_matches )"
   ]
  },
  {
   "cell_type": "code",
   "execution_count": null,
   "metadata": {},
   "outputs": [],
   "source": []
  }
 ],
 "metadata": {
  "kernelspec": {
   "display_name": "Python 3.7.7 ('nanophys')",
   "language": "python",
   "name": "python3"
  },
  "language_info": {
   "codemirror_mode": {
    "name": "ipython",
    "version": 3
   },
   "file_extension": ".py",
   "mimetype": "text/x-python",
   "name": "python",
   "nbconvert_exporter": "python",
   "pygments_lexer": "ipython3",
   "version": "3.7.7"
  },
  "orig_nbformat": 4,
  "vscode": {
   "interpreter": {
    "hash": "daf6b97390dd722c0ded1686e7e1cc1e9803986a5dc5f7e36ca5b4cc6fcb9f47"
   }
  }
 },
 "nbformat": 4,
 "nbformat_minor": 2
}
